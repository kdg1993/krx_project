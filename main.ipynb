{
 "cells": [
  {
   "cell_type": "markdown",
   "metadata": {},
   "source": [
    "# Load packages"
   ]
  },
  {
   "cell_type": "code",
   "execution_count": null,
   "metadata": {},
   "outputs": [],
   "source": [
    "import pandas as pd\n",
    "import numpy as np\n",
    "import os\n",
    "import matplotlib as mpl\n",
    "import yfinance as yf\n",
    "import seaborn as sns\n",
    "import missingno as msno\n",
    "import warnings\n",
    "\n",
    "from matplotlib import pyplot as plt\n",
    "from statsmodels.tsa.stattools import grangercausalitytests\n",
    "from statsmodels.tsa.api import VAR"
   ]
  },
  {
   "cell_type": "markdown",
   "metadata": {},
   "source": [
    "# Configuration"
   ]
  },
  {
   "cell_type": "code",
   "execution_count": null,
   "metadata": {},
   "outputs": [],
   "source": [
    "# Korean font\n",
    "from matplotlib import font_manager, rc\n",
    "try:\n",
    "    font_path = \"C:/Windows/Fonts/malgun.TTF\"\n",
    "    Kfont = font_manager.FontProperties(fname=font_path).get_name()\n",
    "    rc('font', family=Kfont)\n",
    "except:\n",
    "    pass\n",
    "\n",
    "# Fix minus presentation\n",
    "mpl.rcParams['axes.unicode_minus'] = False"
   ]
  },
  {
   "cell_type": "code",
   "execution_count": null,
   "metadata": {},
   "outputs": [],
   "source": [
    "# Fix random seed\n",
    "def fix_random_seed(seed=42):\n",
    "    import random\n",
    "    import numpy as np \n",
    "    import os\n",
    "\n",
    "    random.seed(seed)\n",
    "    np.random.seed(seed)\n",
    "    os.environ['PYTHONHASHSEED'] = str(seed)\n",
    "    \n",
    "fix_random_seed()"
   ]
  },
  {
   "cell_type": "markdown",
   "metadata": {},
   "source": [
    "# Load preprocessed data"
   ]
  },
  {
   "cell_type": "code",
   "execution_count": null,
   "metadata": {},
   "outputs": [],
   "source": [
    "df_core = pd.read_csv('data/preprocessed_data.csv')\n",
    "df_core.rename(columns={'날짜': 'date'}, inplace=True)\n",
    "df_core.set_index('date', inplace=True)\n",
    "df_core"
   ]
  },
  {
   "cell_type": "markdown",
   "metadata": {},
   "source": [
    "# Analysis with VAR model"
   ]
  },
  {
   "cell_type": "code",
   "execution_count": null,
   "metadata": {},
   "outputs": [],
   "source": [
    "mdl_var = VAR(df_core)"
   ]
  },
  {
   "cell_type": "code",
   "execution_count": null,
   "metadata": {},
   "outputs": [],
   "source": [
    "var_max_lag = 4\n",
    "rslt_var = mdl_var.fit(var_max_lag)\n",
    "# rslt_var.summary()"
   ]
  },
  {
   "cell_type": "code",
   "execution_count": null,
   "metadata": {},
   "outputs": [],
   "source": [
    "var_pval_tf_mat = rslt_var.pvalues.applymap(lambda x: True if x < 0.05 else False)\n",
    "var_pval_tf_mat.head()"
   ]
  },
  {
   "cell_type": "code",
   "execution_count": null,
   "metadata": {},
   "outputs": [],
   "source": [
    "# plot - VAR model coefficients p-value\n",
    "fig_var_pval, ax_var_pval = plt.subplots(1, 1, figsize=(24, 20))\n",
    "\n",
    "heat_pval = sns.heatmap(\n",
    "    var_pval_tf_mat.T, \n",
    "    square=True, \n",
    "    ax=ax_var_pval, \n",
    "    annot=True, \n",
    "    cbar=False,\n",
    "    linecolor='grey',\n",
    "    linewidth=0.1,\n",
    "    )\n",
    "heat_pval.set_xticklabels(heat_pval.get_xticklabels(), fontsize=12)\n",
    "heat_pval.set_yticklabels(heat_pval.get_yticklabels(), fontsize=12)\n",
    "ax_var_pval.set_title('Statistical significances of VAR coefficients by p-values', fontsize=15, family='bold')"
   ]
  },
  {
   "cell_type": "code",
   "execution_count": null,
   "metadata": {},
   "outputs": [],
   "source": [
    "# Analyze causality between two time series variables with Granger Causality Test\n",
    "selc_granger_test = [ \n",
    "    # (feature x, feature y, time_lag)\n",
    "    ('exchange_rate', 'kospi', 2),\n",
    "    ('wti_crude_future', 'carbon_credit', 4)\n",
    "]\n",
    "\n",
    "df_gct = pd.DataFrame(\n",
    "    index=[x[0] for x in selc_granger_test]+[x[1] for x in selc_granger_test],\n",
    "    columns=[x[0] for x in selc_granger_test]+[x[1] for x in selc_granger_test],\n",
    "    dtype='object',\n",
    "    )\n",
    "df_gct = df_gct.applymap(lambda x: pd.Series(index=np.arange(1, var_max_lag+1), dtype='object'))\n",
    "\n",
    "for factor_x, factor_y, time_lag in selc_granger_test:\n",
    "    print(f'\\n[{factor_x}][t-{time_lag}] -> [{factor_y}][t]', end='')\n",
    "    df_gct.loc[factor_x, factor_y][time_lag] = grangercausalitytests(\n",
    "        df_core[[factor_y, factor_x]],\n",
    "        maxlag=[time_lag],\n",
    "        verbose=1\n",
    "    )\n",
    "\n",
    "    print(f'\\n[{factor_y}][t-{time_lag}] -> [{factor_x}][t]', end='')\n",
    "    df_gct.loc[factor_y, factor_x][time_lag] = grangercausalitytests(\n",
    "        df_core[[factor_x, factor_y]],\n",
    "        maxlag=[time_lag],\n",
    "        verbose=1\n",
    "        )\n",
    "\n",
    "\n",
    "df_gct"
   ]
  }
 ],
 "metadata": {
  "interpreter": {
   "hash": "cd7df390b7cda498a4d677b901669ae0205f984924db78ca0edbcfc58caee8df"
  },
  "kernelspec": {
   "display_name": "Python 3.8.13 ('krx_project')",
   "language": "python",
   "name": "python3"
  },
  "language_info": {
   "codemirror_mode": {
    "name": "ipython",
    "version": 3
   },
   "file_extension": ".py",
   "mimetype": "text/x-python",
   "name": "python",
   "nbconvert_exporter": "python",
   "pygments_lexer": "ipython3",
   "version": "3.8.13"
  },
  "orig_nbformat": 4
 },
 "nbformat": 4,
 "nbformat_minor": 2
}
