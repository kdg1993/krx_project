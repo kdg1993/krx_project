{
 "cells": [
  {
   "cell_type": "markdown",
   "metadata": {},
   "source": [
    "# Granger causality test tutorial\n",
    "###### by Daegun Kim"
   ]
  },
  {
   "cell_type": "markdown",
   "metadata": {},
   "source": [
    "### <span style=\"color:#ffd33d\">**Warning**</span>\n",
    "> Granger causality test can only provide 'Granger Causality' not the causality   \n",
    "Thus, it would be stretching a point to use Granger causality test as proof of general causality between two time series variables."
   ]
  },
  {
   "cell_type": "markdown",
   "metadata": {},
   "source": [
    "## Load packages"
   ]
  },
  {
   "cell_type": "code",
   "execution_count": null,
   "metadata": {},
   "outputs": [],
   "source": [
    "import numpy as np\n",
    "import matplotlib as mpl\n",
    "import pandas as pd\n",
    "import seaborn as sns\n",
    "\n",
    "from statsmodels.tsa.stattools import grangercausalitytests\n",
    "from matplotlib import pyplot as plt"
   ]
  },
  {
   "cell_type": "markdown",
   "metadata": {},
   "source": [
    "## Configurations"
   ]
  },
  {
   "cell_type": "code",
   "execution_count": null,
   "metadata": {},
   "outputs": [],
   "source": [
    "def fix_random_seed(seed=42):\n",
    "    import random\n",
    "    import numpy as np \n",
    "    import os\n",
    "\n",
    "    random.seed(seed)\n",
    "    np.random.seed(seed)\n",
    "    os.environ['PYTHONHASHSEED'] = str(seed)\n",
    "    try:\n",
    "        tf.random.set_seed(seed)\n",
    "    except:\n",
    "        pass\n",
    "    \n",
    "fix_random_seed()"
   ]
  },
  {
   "cell_type": "code",
   "execution_count": null,
   "metadata": {},
   "outputs": [],
   "source": [
    "from matplotlib import font_manager, rc\n",
    "try:\n",
    "    font_path = \"C:/Windows/Fonts/malgun.TTF\"\n",
    "    font = font_manager.FontProperties(fname=font_path).get_name()\n",
    "    rc('font', family=font)\n",
    "except:\n",
    "    pass\n",
    "\n",
    "# Fix minus presentation\n",
    "mpl.rcParams['axes.unicode_minus'] = False\n",
    "\n",
    "# Matplotlib fontsize change\n",
    "SMALL_SIZE = 10\n",
    "MEDIUM_SIZE = 15\n",
    "LARGE_SIZE = 20\n",
    "\n",
    "plt.rc('font', size=SMALL_SIZE, weight='bold')\n",
    "plt.rc('axes', titlesize=LARGE_SIZE, titleweight='bold')\n",
    "plt.rc('axes', labelsize=MEDIUM_SIZE, labelweight='bold')\n",
    "plt.rc('axes', titleweight='bold')\n",
    "plt.rc('xtick', labelsize=MEDIUM_SIZE)\n",
    "plt.rc('ytick', labelsize=MEDIUM_SIZE)\n",
    "plt.rc('legend', fontsize=SMALL_SIZE)\n",
    "plt.rc('figure', titlesize=LARGE_SIZE)"
   ]
  },
  {
   "cell_type": "markdown",
   "metadata": {},
   "source": [
    "## Example with causality"
   ]
  },
  {
   "cell_type": "code",
   "execution_count": null,
   "metadata": {},
   "outputs": [],
   "source": [
    "# Set time\n",
    "t = np.arange(0, 30)\n",
    "\n",
    "# Set factor\n",
    "factor_1 = np.sin(t/np.pi)\n",
    "\n",
    "time_lag = 4\n",
    "factor_2 = 0.3*t + np.sin((t+time_lag)/np.pi)\n",
    "\n",
    "# Assign noise to each factor\n",
    "factor_1_noise = factor_1 + np.random.random(size=np.shape(factor_1))\n",
    "factor_2_noise = factor_2 + np.random.random(size=np.shape(factor_1))\n",
    "\n",
    "# Make DataFrame\n",
    "df_w_cause_w_noise = pd.DataFrame(data={\n",
    "    'y1':factor_1_noise, 'y2':factor_2_noise\n",
    "})"
   ]
  },
  {
   "cell_type": "code",
   "execution_count": null,
   "metadata": {},
   "outputs": [],
   "source": [
    "# plot - two time series factors with causality\n",
    "fig_w_cause, ax_w_cause = plt.subplots(2, 1, figsize=(16, 12))\n",
    "\n",
    "ax_w_cause[0].plot(t, factor_1, marker='o', label='Factor 1 wo/ noise')\n",
    "ax_w_cause[0].plot(t, factor_2, marker='o',label='Factor 2 wo/ noise')\n",
    "ax_w_cause[0].legend()\n",
    "ax_w_cause[0].set_xlabel('Time')\n",
    "ax_w_cause[0].grid(True)\n",
    "\n",
    "ax_w_cause[1].plot(t, factor_1_noise, marker='o',label='Factor 1 w/ noise')\n",
    "ax_w_cause[1].plot(t, factor_2_noise, marker='o',label='Factor 2 w/ noise')\n",
    "ax_w_cause[1].legend()\n",
    "ax_w_cause[1].set_xlabel('Time')\n",
    "ax_w_cause[1].grid(True)\n",
    "\n",
    "fig_w_cause.suptitle(f'Example with causality \\ny1 -> y2 & lag = {time_lag}', fontsize=20)"
   ]
  },
  {
   "cell_type": "code",
   "execution_count": null,
   "metadata": {},
   "outputs": [],
   "source": [
    "# Test the Granger causality y1->y2\n",
    "max_lag = 8\n",
    "\n",
    "gct_w_cause_w_noise_y1_y2 = grangercausalitytests(\n",
    "    df_w_cause_w_noise[['y2','y1']],\n",
    "    maxlag=max_lag,\n",
    "    verbose=2,\n",
    ")"
   ]
  },
  {
   "cell_type": "code",
   "execution_count": null,
   "metadata": {},
   "outputs": [],
   "source": [
    "# Test the Granger causality y2 -> y1\n",
    "gct_w_cause_w_noise_y2_y1 = grangercausalitytests(\n",
    "    df_w_cause_w_noise[['y1','y2']],\n",
    "    maxlag=max_lag,\n",
    "    verbose=2,\n",
    ")"
   ]
  },
  {
   "cell_type": "code",
   "execution_count": null,
   "metadata": {},
   "outputs": [],
   "source": [
    "# Set test resut DataFrame\n",
    "df_pval_w_cause_w_noise = pd.DataFrame(\n",
    "    columns=['y1->y2', 'y2->y1'],\n",
    "    index=np.arange(1, max_lag+1),\n",
    "    dtype='int',\n",
    ")\n",
    "\n",
    "# Take the Ganger causality test result of y1 affected y2\n",
    "for k1, v1 in gct_w_cause_w_noise_y1_y2.items():\n",
    "    p_vals_y1_y2 = []\n",
    "\n",
    "    for k2, v2 in v1[0].items():\n",
    "        p_vals_y1_y2.append(v2[1])\n",
    "\n",
    "    if all(np.array(p_vals_y1_y2)<0.05):\n",
    "        df_pval_w_cause_w_noise.at[k1, 'y1->y2'] = 1\n",
    "    else:\n",
    "        df_pval_w_cause_w_noise.at[k1, 'y1->y2'] = -1\n",
    "\n",
    "# Take the Ganger causality test result of y2 affected y1\n",
    "for k1, v1 in gct_w_cause_w_noise_y2_y1.items():\n",
    "    p_vals_y2_y1 = []\n",
    "\n",
    "    for k2, v2 in v1[0].items():\n",
    "        p_vals_y2_y1.append(v2[1])\n",
    "\n",
    "    if all(np.array(p_vals_y2_y1)<0.05):\n",
    "        df_pval_w_cause_w_noise.at[k1, 'y2->y1'] = 1\n",
    "    else:\n",
    "        df_pval_w_cause_w_noise.at[k1, 'y2->y1'] = -1\n",
    "\n",
    "df_pval_w_cause_w_noise"
   ]
  },
  {
   "cell_type": "code",
   "execution_count": null,
   "metadata": {},
   "outputs": [],
   "source": [
    "# plot - p-value result by time lag\n",
    "fig_w_cause_heat, ax_w_cause_heat = plt.subplots(1, 1, figsize=(12, 6))\n",
    "\n",
    "sns.heatmap(\n",
    "    df_pval_w_cause_w_noise.T, \n",
    "    square=True,\n",
    "    cmap='RdBu',\n",
    "    alpha=0.8,\n",
    "    cbar=False,\n",
    "    ax=ax_w_cause_heat,\n",
    "    linecolor='white',\n",
    "    linewidths=2,\n",
    "    )\n",
    "\n",
    "ax_w_cause_heat.set_title(f'Blue: significant | Red: Non-significant\\nTrue Time lag: {time_lag}  ||  y1->y2', fontsize=20)\n",
    "ax_w_cause_heat.set_xlabel('Time lag', fontsize=15)\n",
    "ax_w_cause_heat.set_ylabel('Statistical-significance', fontsize=15)"
   ]
  },
  {
   "cell_type": "markdown",
   "metadata": {},
   "source": [
    "## Example without causality"
   ]
  },
  {
   "cell_type": "code",
   "execution_count": null,
   "metadata": {},
   "outputs": [],
   "source": [
    "# Set factor\n",
    "factor_3 = t/15\n",
    "factor_4 = np.sin(t/np.pi) + np.random.random(size=np.shape(factor_1))\n",
    "\n",
    "# Assign noise to each factor\n",
    "factor_3_noise = factor_3 + np.random.random(size=np.shape(factor_1))\n",
    "factor_4_noise = factor_4 + np.random.random(size=np.shape(factor_1))\n",
    "\n",
    "# Make DataFrame\n",
    "df_wo_cause_w_noise = pd.DataFrame(data={\n",
    "    'y3':factor_3_noise, 'y4':factor_4_noise\n",
    "})"
   ]
  },
  {
   "cell_type": "code",
   "execution_count": null,
   "metadata": {},
   "outputs": [],
   "source": [
    "# plot - two time series factors with causality\n",
    "fig_wo_cause, ax_wo_cause = plt.subplots(2, 1, figsize=(16, 12))\n",
    "\n",
    "ax_wo_cause[0].plot(t, factor_3, marker='o', label='Factor 3 wo/ noise')\n",
    "ax_wo_cause[0].plot(t, factor_4, marker='o', label='Factor 4 wo/ noise')\n",
    "ax_wo_cause[0].legend()\n",
    "ax_wo_cause[0].set_xlabel('Time')\n",
    "ax_wo_cause[0].grid(True)\n",
    "\n",
    "ax_wo_cause[1].plot(t, factor_3_noise, marker='o',label='Factor 3 w/ noise')\n",
    "ax_wo_cause[1].plot(t, factor_4_noise, marker='o',label='Factor 4 w/ noise')\n",
    "ax_wo_cause[1].legend()\n",
    "ax_wo_cause[1].set_xlabel('Time')\n",
    "ax_wo_cause[1].grid(True)\n",
    "\n",
    "fig_wo_cause.suptitle(f'Example without causality', fontsize=20)"
   ]
  },
  {
   "cell_type": "code",
   "execution_count": null,
   "metadata": {},
   "outputs": [],
   "source": [
    "# Test the Granger causality y3->y4\n",
    "max_lag = 8\n",
    "\n",
    "gct_wo_cause_w_noise_y3_y4 = grangercausalitytests(\n",
    "    df_wo_cause_w_noise[['y3','y4']],\n",
    "    maxlag=max_lag,\n",
    "    verbose=2,\n",
    ")"
   ]
  },
  {
   "cell_type": "code",
   "execution_count": null,
   "metadata": {},
   "outputs": [],
   "source": [
    "# Test the Granger causality y4 -> y3\n",
    "gct_wo_cause_w_noise_y4_y3 = grangercausalitytests(\n",
    "    df_wo_cause_w_noise[['y3','y4']],\n",
    "    maxlag=max_lag,\n",
    "    verbose=2,\n",
    ")"
   ]
  },
  {
   "cell_type": "code",
   "execution_count": null,
   "metadata": {},
   "outputs": [],
   "source": [
    "# Set test resut DataFrame\n",
    "df_pval_wo_cause_w_noise = pd.DataFrame(\n",
    "    columns=['y3->y4', 'y4->y3'],\n",
    "    index=np.arange(1, max_lag+1),\n",
    "    dtype='int',\n",
    ")\n",
    "\n",
    "# Take the Ganger causality test result of y1 affected y2\n",
    "for k1, v1 in gct_wo_cause_w_noise_y3_y4.items():\n",
    "    p_vals_y3_y4 = []\n",
    "\n",
    "    for k2, v2 in v1[0].items():\n",
    "        p_vals_y3_y4.append(v2[1])\n",
    "\n",
    "    if all(np.array(p_vals_y3_y4)<0.05):\n",
    "        df_pval_wo_cause_w_noise.at[k1, 'y3->y4'] = 1\n",
    "    else:\n",
    "        df_pval_wo_cause_w_noise.at[k1, 'y3->y4'] = -1\n",
    "\n",
    "# Take the Ganger causality test result of y4 affected y3\n",
    "for k1, v1 in gct_wo_cause_w_noise_y4_y3.items():\n",
    "    p_vals_y4_y3 = []\n",
    "\n",
    "    for k2, v2 in v1[0].items():\n",
    "        p_vals_y4_y3.append(v2[1])\n",
    "\n",
    "    if all(np.array(p_vals_y4_y3)<0.05):\n",
    "        df_pval_wo_cause_w_noise.at[k1, 'y4->y3'] = 1\n",
    "    else:\n",
    "        df_pval_wo_cause_w_noise.at[k1, 'y4->y3'] = -1\n",
    "\n",
    "df_pval_wo_cause_w_noise"
   ]
  },
  {
   "cell_type": "code",
   "execution_count": null,
   "metadata": {},
   "outputs": [],
   "source": [
    "# plot - p-value result by time lag\n",
    "fig_wo_cause_heat, ax_wo_cause_heat = plt.subplots(1, 1, figsize=(12, 6))\n",
    "\n",
    "sns.heatmap(\n",
    "    df_pval_wo_cause_w_noise.T, \n",
    "    square=True,\n",
    "    cmap='RdBu',\n",
    "    alpha=0.8,\n",
    "    cbar=False,\n",
    "    ax=ax_wo_cause_heat,\n",
    "    linecolor='white',\n",
    "    linewidths=2,\n",
    "    )\n",
    "\n",
    "ax_wo_cause_heat.set_title(f'Blue: significant | Red: Non-significant\\nTrue Time lag: [None]', fontsize=20)\n",
    "ax_wo_cause_heat.set_xlabel('Time lag', fontsize=15)\n",
    "ax_wo_cause_heat.set_ylabel('Statistical-significance', fontsize=15)"
   ]
  },
  {
   "cell_type": "markdown",
   "metadata": {},
   "source": [
    "***\n",
    "### Refence\n",
    "* https://www.statsmodels.org/dev/generated/statsmodels.tsa.stattools.grangercausalitytests.html\n",
    "* https://en.wikipedia.org/wiki/Granger_causality\n",
    "* https://intothedata.com/02.scholar_category/timeseries_analysis/granger_causality/\n",
    "* https://www.aptech.com/blog/introduction-to-granger-causality/"
   ]
  },
  {
   "cell_type": "markdown",
   "metadata": {},
   "source": []
  }
 ],
 "metadata": {
  "kernelspec": {
   "display_name": "Python 3.9.7 ('base')",
   "language": "python",
   "name": "python3"
  },
  "language_info": {
   "codemirror_mode": {
    "name": "ipython",
    "version": 3
   },
   "file_extension": ".py",
   "mimetype": "text/x-python",
   "name": "python",
   "nbconvert_exporter": "python",
   "pygments_lexer": "ipython3",
   "version": "3.9.7"
  },
  "orig_nbformat": 4,
  "vscode": {
   "interpreter": {
    "hash": "f2497a4df160886eb046258e34078ebeb1a6eaf1bc2d7cf90771d546791ceb07"
   }
  }
 },
 "nbformat": 4,
 "nbformat_minor": 2
}
