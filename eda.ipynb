{
 "cells": [
  {
   "cell_type": "markdown",
   "metadata": {},
   "source": [
    "# Load packages"
   ]
  },
  {
   "cell_type": "code",
   "execution_count": null,
   "metadata": {},
   "outputs": [],
   "source": [
    "import pandas as pd\n",
    "import numpy as np\n",
    "import os\n",
    "import matplotlib as mpl\n",
    "import yfinance as yf\n",
    "import seaborn as sns\n",
    "import missingno as msno\n",
    "import warnings\n",
    "\n",
    "from matplotlib import pyplot as plt\n",
    "from statsmodels.tsa.stattools import adfuller, kpss"
   ]
  },
  {
   "cell_type": "markdown",
   "metadata": {},
   "source": [
    "# Configuration"
   ]
  },
  {
   "cell_type": "code",
   "execution_count": null,
   "metadata": {},
   "outputs": [],
   "source": [
    "# Korean font\n",
    "from matplotlib import font_manager, rc\n",
    "try:\n",
    "    font_path = \"C:/Windows/Fonts/malgun.TTF\"\n",
    "    Kfont = font_manager.FontProperties(fname=font_path).get_name()\n",
    "    rc('font', family=Kfont)\n",
    "except:\n",
    "    pass\n",
    "\n",
    "# Fix minus presentation\n",
    "mpl.rcParams['axes.unicode_minus'] = False"
   ]
  },
  {
   "cell_type": "code",
   "execution_count": null,
   "metadata": {},
   "outputs": [],
   "source": [
    "# Ignore warings\n",
    "warnings.filterwarnings('ignore')"
   ]
  },
  {
   "cell_type": "markdown",
   "metadata": {},
   "source": [
    "# Custom functions"
   ]
  },
  {
   "cell_type": "code",
   "execution_count": null,
   "metadata": {},
   "outputs": [],
   "source": [
    "def to_date_inv(df):\n",
    "    df[\"날짜\"] = pd.to_datetime(df[\"날짜\"], format = \"%Y년 %m월 %d일\")\n",
    "    df = df.sort_values(by = \"날짜\", ascending=True)\n",
    "    df.set_index(\"날짜\", inplace=True)\n",
    "\n",
    "    return df\n",
    "\n",
    "def to_numeric_inv(df):\n",
    "    try:\n",
    "        df[\"종가\"] = df[\"종가\"].replace(\",\", \"\")\n",
    "        df[\"종가\"] = pd.to_numeric(df[\"종가\"])\n",
    "    except:\n",
    "        df[\"종가\"] = df[\"종가\"].str.replace(\",\", \"\")\n",
    "        df[\"종가\"] = pd.to_numeric(df[\"종가\"])\n",
    "\n",
    "    return df\n",
    "\n",
    "def dtype_chg(df: pd.DataFrame) -> pd.DataFrame:\n",
    "    return to_date_inv(to_numeric_inv(df))"
   ]
  },
  {
   "cell_type": "markdown",
   "metadata": {},
   "source": [
    "# Load data"
   ]
  },
  {
   "cell_type": "code",
   "execution_count": null,
   "metadata": {},
   "outputs": [],
   "source": [
    "# Load several index information by yfinance\n",
    "snp500 = yf.Ticker('^GSPC')\n",
    "snp500.history(period='max')\n",
    "\n",
    "# Get data path from local directory\n",
    "path_brent_crude_future = 'data/external_data/브렌트유 선물 내역.csv'\n",
    "path_wti_crude_future = 'data/external_data/WTI유 선물 내역.csv'\n",
    "path_natural_gas = 'data/external_data/천연가스 선물 내역.csv'\n",
    "path_kospi = 'data/external_data/코스피지수 내역.csv'\n",
    "path_carbon_credit = 'data/external_data/탄소배출권 선물 내역.csv'\n",
    "path_exchange_rate = 'data/external_data/EUR_KRW 내역.csv'\n",
    "path_gold = 'data/external_data/금 선물 내역.csv'\n",
    "path_nickel = 'data/external_data/니켈 선물 내역.csv'\n",
    "path_use_corn = 'data/external_data/미국 옥수수 선물 내역.csv'"
   ]
  },
  {
   "cell_type": "code",
   "execution_count": null,
   "metadata": {},
   "outputs": [],
   "source": [
    "# Load brent crude oil future data\n",
    "df_brent_crude_fut = pd.read_csv(path_brent_crude_future)\n",
    "df_brent_crude_fut"
   ]
  },
  {
   "cell_type": "code",
   "execution_count": null,
   "metadata": {},
   "outputs": [],
   "source": [
    "# Load west texas crude oil future data\n",
    "df_wti_crude_fut = pd.read_csv(path_wti_crude_future)\n",
    "df_wti_crude_fut"
   ]
  },
  {
   "cell_type": "code",
   "execution_count": null,
   "metadata": {},
   "outputs": [],
   "source": [
    "# Load natural gas data\n",
    "df_natural_gas = pd.read_csv(path_natural_gas)\n",
    "df_natural_gas"
   ]
  },
  {
   "cell_type": "code",
   "execution_count": null,
   "metadata": {},
   "outputs": [],
   "source": [
    "# Load kospi data\n",
    "df_kospi = pd.read_csv(path_kospi)\n",
    "df_kospi"
   ]
  },
  {
   "cell_type": "code",
   "execution_count": null,
   "metadata": {},
   "outputs": [],
   "source": [
    "# Load carbon credit data\n",
    "df_carbon_credit = pd.read_csv(path_carbon_credit)\n",
    "df_carbon_credit"
   ]
  },
  {
   "cell_type": "code",
   "execution_count": null,
   "metadata": {},
   "outputs": [],
   "source": [
    "# Load exchange rate data\n",
    "df_exch_rate = pd.read_csv(path_exchange_rate)\n",
    "df_exch_rate"
   ]
  },
  {
   "cell_type": "markdown",
   "metadata": {},
   "source": [
    "# Preprocessing & Visualization"
   ]
  },
  {
   "cell_type": "code",
   "execution_count": null,
   "metadata": {},
   "outputs": [],
   "source": [
    "# Simple dtype change : date to datetime & Close price comma fix\n",
    "df_brent_crude_fut = dtype_chg(df_brent_crude_fut)\n",
    "df_wti_crude_fut = dtype_chg(df_wti_crude_fut)\n",
    "df_natural_gas = dtype_chg(df_natural_gas)\n",
    "df_kospi = dtype_chg(df_kospi)\n",
    "df_exch_rate = dtype_chg(df_exch_rate)\n",
    "df_carbon_credit = dtype_chg(df_carbon_credit)"
   ]
  },
  {
   "cell_type": "code",
   "execution_count": null,
   "metadata": {},
   "outputs": [],
   "source": [
    "# Concat close price of all time series data\n",
    "df_tot = pd.concat([\n",
    "    df_carbon_credit['종가'],\n",
    "    df_brent_crude_fut['종가'],\n",
    "    df_wti_crude_fut['종가'],\n",
    "    df_kospi['종가'],\n",
    "    df_natural_gas['종가'],\n",
    "    df_exch_rate['종가'],\n",
    "],\n",
    "axis=1)\n",
    "\n",
    "tot_col_nm = [\n",
    "    'carbon_credit', \n",
    "    'brent_crude_future', \n",
    "    'wti_crude_future', \n",
    "    'kospi', \n",
    "    'natural_gas',\n",
    "    'exchange_rate'\n",
    "    ]\n",
    "\n",
    "df_tot.columns = tot_col_nm\n",
    "\n",
    "df_tot"
   ]
  },
  {
   "cell_type": "code",
   "execution_count": null,
   "metadata": {},
   "outputs": [],
   "source": [
    "# Check missing value of each column and drop missing\n",
    "msno.matrix(df_tot, figsize=(12, 6))\n",
    "print('Missing value before drop and fill na\\n', df_tot.isnull().sum())\n",
    "\n",
    "df_tot_f = df_tot.interpolate(limit_are='outside', limit=10)\n",
    "msno.matrix(df_tot_f, figsize=(12, 6))\n",
    "print('Missing value After fill na\\n', df_tot_f.isnull().sum())\n",
    "\n",
    "df_tot_f = df_tot_f.dropna()\n",
    "msno.matrix(df_tot_f, figsize=(12, 6))\n",
    "print('Missing value After fill and drop na\\n', df_tot_f.isnull().sum())"
   ]
  },
  {
   "cell_type": "code",
   "execution_count": null,
   "metadata": {},
   "outputs": [],
   "source": [
    "# plot - Check data by simple line plot\n",
    "num_col = len(df_tot_f.columns)\n",
    "\n",
    "df_tot_f.plot(\n",
    "    subplots=True, \n",
    "    layout=(int(np.ceil(num_col*2/3)), int(np.ceil(num_col*1/3))),\n",
    "    figsize=(5*int(np.ceil(num_col*2/3)), 8*int(np.ceil(num_col*1/3))),\n",
    "    )"
   ]
  },
  {
   "cell_type": "code",
   "execution_count": null,
   "metadata": {},
   "outputs": [],
   "source": [
    "# Test - adf and kpss test\n",
    "x_test = np.cos(np.linspace(0, 100/np.pi, 500)) \n",
    "x_test2 = df_carbon_credit['종가']\n",
    "plt.plot(x)\n",
    "print(f'ADF {adfuller(x_test)}')\n",
    "print(f'KPSS {kpss(x_test)}')"
   ]
  },
  {
   "cell_type": "code",
   "execution_count": null,
   "metadata": {},
   "outputs": [],
   "source": [
    "# plot - visualize each time series data by lab plot and stationarity test\n",
    "fig_lag_plot, ax_lag_plot = plt.subplots(len(tot_col_nm), 2, figsize=(14, 7*len(tot_col_nm)))\n",
    "\n",
    "for idx, col_nm in enumerate(tot_col_nm):\n",
    "    \n",
    "    pd.plotting.lag_plot(df_tot_f[col_nm].dropna(), ax=ax_lag_plot[idx, 0])\n",
    "    r_adf = adfuller(df_tot_f[col_nm].dropna())\n",
    "    r_kpss = kpss(df_tot_f[col_nm].dropna())\n",
    "    ax_lag_plot[idx, 0].set_title(f'{col_nm} || No diff\\nADF[{r_adf[1]:.2}] || KPSS [{r_kpss[1]:.2}]', fontsize=15, family='bold')\n",
    "\n",
    "    pd.plotting.lag_plot(df_tot_f[col_nm].diff().dropna(), ax=ax_lag_plot[idx, 1])\n",
    "    r_adf = adfuller(df_tot_f[col_nm].diff().dropna())\n",
    "    r_kpss = kpss(df_tot_f[col_nm].diff().dropna())\n",
    "    ax_lag_plot[idx, 1].set_title(f'{col_nm} || Diff 1\\nADF[{r_adf[1]:.2}] || KPSS [{r_kpss[1]:.2}]', fontsize=15, family='bold')\n",
    "\n",
    "fig_lag_plot.tight_layout()"
   ]
  },
  {
   "cell_type": "code",
   "execution_count": null,
   "metadata": {},
   "outputs": [],
   "source": [
    "# Difference total DataFrame\n",
    "df_tot_f.info()\n",
    "df_tot_f_diff = df_tot_f.diff().dropna()\n",
    "df_tot_f_diff.info()"
   ]
  },
  {
   "cell_type": "code",
   "execution_count": null,
   "metadata": {},
   "outputs": [],
   "source": [
    "# plot - Check data by simple line plot\n",
    "num_col = len(df_tot_f_diff.columns)\n",
    "\n",
    "df_tot_f_diff.plot(\n",
    "    subplots=True, \n",
    "    layout=(int(np.ceil(num_col*2/3)), int(np.ceil(num_col*1/3))),\n",
    "    figsize=(5*int(np.ceil(num_col*2/3)), 8*int(np.ceil(num_col*1/3))),\n",
    "    )\n"
   ]
  },
  {
   "cell_type": "markdown",
   "metadata": {},
   "source": [
    "# Save preprocessed data "
   ]
  },
  {
   "cell_type": "code",
   "execution_count": null,
   "metadata": {},
   "outputs": [],
   "source": [
    "df_tot_f_diff.to_csv('data/preprocessed_data.csv')"
   ]
  }
 ],
 "metadata": {
  "kernelspec": {
   "display_name": "Python 3.8.13 ('krx_project')",
   "language": "python",
   "name": "python3"
  },
  "language_info": {
   "codemirror_mode": {
    "name": "ipython",
    "version": 3
   },
   "file_extension": ".py",
   "mimetype": "text/x-python",
   "name": "python",
   "nbconvert_exporter": "python",
   "pygments_lexer": "ipython3",
   "version": "3.8.13"
  },
  "orig_nbformat": 4,
  "vscode": {
   "interpreter": {
    "hash": "dc46f5c985e1657c3c539eac54ec99c251674c631c2e2f1610b325c9a4de2172"
   }
  }
 },
 "nbformat": 4,
 "nbformat_minor": 2
}
