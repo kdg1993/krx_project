{
 "cells": [
  {
   "cell_type": "markdown",
   "metadata": {},
   "source": [
    "# Load packages"
   ]
  },
  {
   "cell_type": "code",
   "execution_count": null,
   "metadata": {},
   "outputs": [],
   "source": [
    "import numpy as np\n",
    "import pandas as pd\n",
    "import matplotlib as mpl\n",
    "import os\n",
    "import seaborn as sns\n",
    "\n",
    "from glob import glob\n",
    "from matplotlib import pyplot as plt"
   ]
  },
  {
   "cell_type": "markdown",
   "metadata": {},
   "source": [
    "# Configuration"
   ]
  },
  {
   "cell_type": "code",
   "execution_count": null,
   "metadata": {},
   "outputs": [],
   "source": [
    "\n",
    "# Korean font\n",
    "from matplotlib import font_manager, rc\n",
    "try:\n",
    "    font_path = \"C:/Windows/Fonts/malgun.TTF\"\n",
    "    font = font_manager.FontProperties(fname=font_path).get_name()\n",
    "    rc('font', family=font)\n",
    "except:\n",
    "    pass\n",
    "\n",
    "# Fix minus presentation\n",
    "mpl.rcParams['axes.unicode_minus'] = False"
   ]
  },
  {
   "cell_type": "markdown",
   "metadata": {},
   "source": [
    "# Load data"
   ]
  },
  {
   "cell_type": "code",
   "execution_count": null,
   "metadata": {},
   "outputs": [],
   "source": [
    "# Get paths\n",
    "path_kospi = \"data/external_data/kospi_20060102_20220701.csv\""
   ]
  },
  {
   "cell_type": "code",
   "execution_count": null,
   "metadata": {},
   "outputs": [],
   "source": [
    "# Load daily kospi data from 20060102 ~ 20220701\n",
    "df_kospi = pd.read_csv(path_kospi, encoding='euc-kr')\n",
    "df_kospi"
   ]
  },
  {
   "cell_type": "markdown",
   "metadata": {},
   "source": [
    "# Preprocessing"
   ]
  },
  {
   "cell_type": "code",
   "execution_count": null,
   "metadata": {},
   "outputs": [],
   "source": [
    "# Change some column name from Korean to English\n",
    "df_kospi.rename(columns={'종가': 'Close', '일자': 'Date'}, inplace=True)\n",
    "df_kospi.head()"
   ]
  },
  {
   "cell_type": "code",
   "execution_count": null,
   "metadata": {},
   "outputs": [],
   "source": [
    "# Change date column type as pandas datetime\n",
    "df_kospi.Date = pd.to_datetime(df_kospi.Date)\n",
    "\n",
    "# Assign year, month, day columns\n",
    "df_kospi['Year'] = df_kospi.Date.dt.year\n",
    "df_kospi['Month'] = df_kospi.Date.dt.month\n",
    "df_kospi['Day'] = df_kospi.Date.dt.day\n",
    "df_kospi.head()\n",
    "\n",
    "# Assign class by month\n",
    "df_kospi['Class'] = df_kospi.apply(\n",
    "    lambda x: 'May-Oct' if x['Date'].month in [5, 6, 7, 8, 9, 10] else 'Nov-Apr', axis=1\n",
    "    )\n",
    "\n",
    "df_kospi.head()"
   ]
  },
  {
   "cell_type": "code",
   "execution_count": null,
   "metadata": {},
   "outputs": [],
   "source": [
    "# Get average monthly kospi\n",
    "df_mthly_avg_kospi = df_kospi.resample(\n",
    "    'm', on='Date')['Close'].mean().reset_index().rename(columns={'Close': 'Avg_Close'})\n",
    "\n",
    "# Assign month class: May ~ Oct -> class 0; Nov ~ Apr -> class 1\n",
    "df_mthly_avg_kospi['Class'] = df_mthly_avg_kospi.apply(\n",
    "    lambda x: 'May-Oct' if x['Date'].month in [5, 6, 7, 8, 9, 10] else 'Nov-Apr', axis=1\n",
    "    )\n",
    "df_mthly_avg_kospi.Class = df_mthly_avg_kospi.Class.astype('category')\n",
    "\n",
    "# Assign year and month column\n",
    "df_mthly_avg_kospi['Year'] = df_mthly_avg_kospi.apply(\n",
    "    lambda x: x['Date'].year - 1 if x['Date'].month in [1, 2, 3, 4] else x['Date'].year, axis=1)\n",
    "df_mthly_avg_kospi['Month'] = df_mthly_avg_kospi.Date.dt.month\n",
    "\n",
    "print(f'Class value counts \\n{df_mthly_avg_kospi.Class.value_counts()}')\n",
    "df_mthly_avg_kospi.head(15)"
   ]
  },
  {
   "cell_type": "code",
   "execution_count": null,
   "metadata": {},
   "outputs": [],
   "source": [
    "# Make make DataFrame\n",
    "df_kospi_chg_yr_cls = df_kospi.groupby(by=['Year', 'Class']).size().reset_index().rename(columns={0: 'Change'})\n",
    "df_kospi_chg_yr_cls = df_kospi_chg_yr_cls[df_kospi_chg_yr_cls.Year < 2022]\n",
    "\n",
    "# Get info\n",
    "df_fst_may = df_kospi[df_kospi.Month==5].groupby(by='Year').min().loc[:, ['Date', 'Close', 'Day', 'Class']]\n",
    "df_lst_oct = df_kospi[df_kospi.Month==10].groupby(by='Year').max().loc[:, ['Date', 'Close', 'Day', 'Class']]\n",
    "df_fst_nov = df_kospi[df_kospi.Month==11].groupby(by='Year').min().loc[:, ['Date', 'Close', 'Day', 'Class']]\n",
    "df_lst_apr = df_kospi[df_kospi.Month==4].groupby(by='Year').max().loc[:, ['Date', 'Close', 'Day', 'Class']]\n",
    "\n",
    "# Get Last of Oct - First of May of each year\n",
    "May_Oct_chg = (df_lst_oct.Close - df_fst_may.Close).dropna()\n",
    "\n",
    "# Get Last of Apr(next year) - First of Nov of each year\n",
    "df_lst_apr.index -= 1\n",
    "Nov_Apr_chg = (df_lst_apr.Close - df_fst_nov.Close).dropna()\n",
    "\n",
    "# Assign kospi change by year and class\n",
    "df_kospi_chg_yr_cls.Change.iloc[0::2] = May_Oct_chg\n",
    "df_kospi_chg_yr_cls.Change.iloc[1::2] = Nov_Apr_chg\n",
    "\n",
    "# Assign sign\n",
    "df_kospi_chg_yr_cls['Sign'] = df_kospi_chg_yr_cls.Change.apply(lambda x: 'Pos' if x >= 0 else 'Neg')\n",
    "\n",
    "# Value assign check\n",
    "print(f'May to Oct \\n{May_Oct_chg.head()}')\n",
    "print(f'Nov to Apr \\n{Nov_Apr_chg.head()}')\n",
    "print(f'Result \\n{df_kospi_chg_yr_cls.head()}')"
   ]
  },
  {
   "cell_type": "markdown",
   "metadata": {},
   "source": [
    "# Visualization"
   ]
  },
  {
   "cell_type": "code",
   "execution_count": null,
   "metadata": {},
   "outputs": [],
   "source": [
    "# plot - Monthly averaged kospi index by two month class\n",
    "fig_mthly_avg_kospi, ax_mthly_avg_kospi = plt.subplots(1, 1, figsize=(14, 8))\n",
    "\n",
    "for i in range(len(df_mthly_avg_kospi)-1):    \n",
    "    ax_mthly_avg_kospi.plot(\n",
    "        [df_mthly_avg_kospi.index[i], df_mthly_avg_kospi.index[i+1]],\n",
    "        [df_mthly_avg_kospi.Avg_Close.iat[i], df_mthly_avg_kospi.Avg_Close.iat[i+1]],\n",
    "        color=f'C{df_mthly_avg_kospi.Class.cat.codes.iat[i]}', \n",
    "        linewidth=2, \n",
    "        marker='o',\n",
    "        markersize=2,\n",
    "        )\n",
    "\n",
    "legend_lines = [\n",
    "    mpl.lines.Line2D([0], [0], color=f'C{code}', lw=2) for code in df_mthly_avg_kospi.Class.unique().codes]\n",
    "legend_labels = [g for g in df_mthly_avg_kospi.Class.unique()]\n",
    "\n",
    "ax_mthly_avg_kospi.legend(legend_lines, legend_labels, title='group')"
   ]
  },
  {
   "cell_type": "code",
   "execution_count": null,
   "metadata": {},
   "outputs": [],
   "source": [
    "# plot - Yearly change of Kospi by class\n",
    "fig_chg_yr_cls, ax_chg_yr_cls = plt.subplots(2, 1, figsize=(16, 14))\n",
    "\n",
    "sns.barplot(\n",
    "    x='Year', y='Change', hue='Class', data=df_kospi_chg_yr_cls,\n",
    "    ax=ax_chg_yr_cls[0]\n",
    ")\n",
    "ax_chg_yr_cls[0].grid(axis='x')\n",
    "df_kospi_chg_yr_cls.groupby(['Class', 'Sign']).size().unstack()\n",
    "\n",
    "ax_chg_yr_cls[1].bar(\n",
    "    df_kospi_chg_yr_cls.Year.value_counts().sort_index().index,\n",
    "    df_kospi_chg_yr_cls[df_kospi_chg_yr_cls.Class=='Nov-Apr'].Change.values - df_kospi_chg_yr_cls[df_kospi_chg_yr_cls.Class=='May-Oct'].Change.values\n",
    ")\n",
    "ax_chg_yr_cls[1].grid(axis='x')\n",
    "ax_chg_yr_cls[1].set_title('[Nov-Apr]-[May-Oct]')"
   ]
  }
 ],
 "metadata": {
  "kernelspec": {
   "display_name": "Python 3.8.13 ('krx_project')",
   "language": "python",
   "name": "python3"
  },
  "language_info": {
   "codemirror_mode": {
    "name": "ipython",
    "version": 3
   },
   "file_extension": ".py",
   "mimetype": "text/x-python",
   "name": "python",
   "nbconvert_exporter": "python",
   "pygments_lexer": "ipython3",
   "version": "3.8.13"
  },
  "orig_nbformat": 4,
  "vscode": {
   "interpreter": {
    "hash": "dc46f5c985e1657c3c539eac54ec99c251674c631c2e2f1610b325c9a4de2172"
   }
  }
 },
 "nbformat": 4,
 "nbformat_minor": 2
}
